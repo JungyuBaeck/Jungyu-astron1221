{
  "nbformat": 4,
  "nbformat_minor": 0,
  "metadata": {
    "colab": {
      "provenance": [],
      "authorship_tag": "ABX9TyOj/RGQJHIhC08YATrkjtLW",
      "include_colab_link": true
    },
    "kernelspec": {
      "name": "python3",
      "display_name": "Python 3"
    },
    "language_info": {
      "name": "python"
    }
  },
  "cells": [
    {
      "cell_type": "markdown",
      "metadata": {
        "id": "view-in-github",
        "colab_type": "text"
      },
      "source": [
        "<a href=\"https://colab.research.google.com/github/JungyuBaeck/Jungyu-astron1221/blob/main/hubble.ipynb\" target=\"_parent\"><img src=\"https://colab.research.google.com/assets/colab-badge.svg\" alt=\"Open In Colab\"/></a>"
      ]
    },
    {
      "cell_type": "code",
      "execution_count": 2,
      "metadata": {
        "id": "Z8K_ycnaDG7Q"
      },
      "outputs": [],
      "source": [
        "import astropy.constants as ac #import a Python package to call the value of certain constants.\n",
        "import astropy.units as u # import a Python package to call certain unit, e.g., the mass of the Sun\n",
        "import numpy as np\n",
        "import matplotlib.pyplot as plt"
      ]
    },
    {
      "cell_type": "markdown",
      "source": [
        "The hubble Law: V=H * d\n",
        "Age of Universer: T0 = d/v = d/(H * d)=1/H"
      ],
      "metadata": {
        "id": "WlGeIzmFDNHa"
      }
    },
    {
      "cell_type": "code",
      "source": [
        "d= 1 * u.Mpc\n",
        "H= 70 * u.km/u.s/u.Mpc\n",
        "t= 1/H\n",
        "\n",
        "print(t.to(u.Gyr))"
      ],
      "metadata": {
        "colab": {
          "base_uri": "https://localhost:8080/"
        },
        "id": "rbjCkL53Dip-",
        "outputId": "c1052ad3-6152-4f7c-e48d-afa5a3027c26"
      },
      "execution_count": 6,
      "outputs": [
        {
          "output_type": "stream",
          "name": "stdout",
          "text": [
            "13.968460309725558 Gyr\n"
          ]
        }
      ]
    }
  ]
}