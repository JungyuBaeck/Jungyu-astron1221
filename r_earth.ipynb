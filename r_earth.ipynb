{
  "nbformat": 4,
  "nbformat_minor": 0,
  "metadata": {
    "colab": {
      "provenance": [],
      "authorship_tag": "ABX9TyMIj5i5fO/m1ujhT5c/qSHX",
      "include_colab_link": true
    },
    "kernelspec": {
      "name": "python3",
      "display_name": "Python 3"
    },
    "language_info": {
      "name": "python"
    }
  },
  "cells": [
    {
      "cell_type": "markdown",
      "metadata": {
        "id": "view-in-github",
        "colab_type": "text"
      },
      "source": [
        "<a href=\"https://colab.research.google.com/github/JungyuBaeck/Jungyu-astron1221/blob/main/r_earth.ipynb\" target=\"_parent\"><img src=\"https://colab.research.google.com/assets/colab-badge.svg\" alt=\"Open In Colab\"/></a>"
      ]
    },
    {
      "cell_type": "markdown",
      "source": [
        "Calculate the schwarzschild radius of a solar-mass blackhole"
      ],
      "metadata": {
        "id": "Dls2ofWcJR5Z"
      }
    },
    {
      "cell_type": "code",
      "source": [
        "import astropy.constants as const #import a Python package to call the value of certain constants.\n",
        "import astropy.units as u # import a Python package to call certain unit, e.g., the mass of the Sun"
      ],
      "metadata": {
        "id": "lf-UjFT9JMlK"
      },
      "execution_count": null,
      "outputs": []
    },
    {
      "cell_type": "code",
      "source": [
        "M = 1* u.solMass # define M as a  physical quantity with a value and a unit\n",
        "print(M.to(u.kg)) #print out M in unit of Kilogram"
      ],
      "metadata": {
        "colab": {
          "base_uri": "https://localhost:8080/"
        },
        "id": "4ihVNfwIJdxF",
        "outputId": "102d5720-596f-4b36-a6eb-93fba87f0d8c"
      },
      "execution_count": null,
      "outputs": [
        {
          "output_type": "stream",
          "name": "stdout",
          "text": [
            "1.988409870698051e+30 kg\n"
          ]
        }
      ]
    },
    {
      "cell_type": "code",
      "source": [
        "G = const.G ## define G as the gravitational constant\n",
        "print(G.si) # print out G in SI unit"
      ],
      "metadata": {
        "colab": {
          "base_uri": "https://localhost:8080/"
        },
        "id": "vdj3ZtBUJvIp",
        "outputId": "88fa2fa5-5fe7-40a8-8887-d83fdfd853f3"
      },
      "execution_count": null,
      "outputs": [
        {
          "output_type": "stream",
          "name": "stdout",
          "text": [
            "  Name   = Gravitational constant\n",
            "  Value  = 6.6743e-11\n",
            "  Uncertainty  = 1.5e-15\n",
            "  Unit  = m3 / (kg s2)\n",
            "  Reference = CODATA 2018\n"
          ]
        }
      ]
    },
    {
      "cell_type": "code",
      "source": [
        "C = const.c ## define C as the speed of light\n",
        "print(C.to(u.m/u.s))"
      ],
      "metadata": {
        "colab": {
          "base_uri": "https://localhost:8080/"
        },
        "id": "E93EBEMvLW__",
        "outputId": "743fc1fb-d83a-4b07-9f48-5d3394659584"
      },
      "execution_count": null,
      "outputs": [
        {
          "output_type": "stream",
          "name": "stdout",
          "text": [
            "299792458.0 m / s\n"
          ]
        }
      ]
    },
    {
      "cell_type": "code",
      "source": [
        "import numpy as np # import numpy package which allows us to connect mathematical operations for the defind quantities"
      ],
      "metadata": {
        "id": "ZbgNYmVaKAcP"
      },
      "execution_count": null,
      "outputs": []
    },
    {
      "cell_type": "code",
      "source": [
        "R= ((2*G*M)/(C*C))\n",
        "print(R.to(u.km))"
      ],
      "metadata": {
        "colab": {
          "base_uri": "https://localhost:8080/"
        },
        "id": "1Ise_t0QLzAr",
        "outputId": "1991d572-f8ff-4943-a74d-b6acc0705208"
      },
      "execution_count": null,
      "outputs": [
        {
          "output_type": "stream",
          "name": "stdout",
          "text": [
            "2.95325007610025 km\n"
          ]
        }
      ]
    },
    {
      "cell_type": "code",
      "source": [
        "m_earth = 5.97217e24\n",
        "print(m_earth)"
      ],
      "metadata": {
        "colab": {
          "base_uri": "https://localhost:8080/"
        },
        "id": "QR6NMU6WMHd3",
        "outputId": "1d2dc158-b99c-4bbd-85f0-d13a855a8988"
      },
      "execution_count": null,
      "outputs": [
        {
          "output_type": "stream",
          "name": "stdout",
          "text": [
            "5.97217e+24\n"
          ]
        }
      ]
    },
    {
      "cell_type": "code",
      "source": [
        "X=(2*G*m_earth)/(C*C)\n",
        "print(X)"
      ],
      "metadata": {
        "colab": {
          "base_uri": "https://localhost:8080/"
        },
        "id": "V-nUswfo8OQz",
        "outputId": "2df5035b-1026-41e2-da2d-33006174160d"
      },
      "execution_count": null,
      "outputs": [
        {
          "output_type": "stream",
          "name": "stdout",
          "text": [
            "0.008870058314884483 m / kg\n"
          ]
        }
      ]
    }
  ]
}