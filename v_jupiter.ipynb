{
  "nbformat": 4,
  "nbformat_minor": 0,
  "metadata": {
    "colab": {
      "provenance": [],
      "authorship_tag": "ABX9TyPTb/2c4WNgB+leT4KD78/B",
      "include_colab_link": true
    },
    "kernelspec": {
      "name": "python3",
      "display_name": "Python 3"
    },
    "language_info": {
      "name": "python"
    }
  },
  "cells": [
    {
      "cell_type": "markdown",
      "metadata": {
        "id": "view-in-github",
        "colab_type": "text"
      },
      "source": [
        "<a href=\"https://colab.research.google.com/github/JungyuBaeck/Jungyu-astron1221/blob/main/v_jupiter.ipynb\" target=\"_parent\"><img src=\"https://colab.research.google.com/assets/colab-badge.svg\" alt=\"Open In Colab\"/></a>"
      ]
    },
    {
      "cell_type": "code",
      "execution_count": null,
      "metadata": {
        "id": "MQUNEukP3772"
      },
      "outputs": [],
      "source": [
        "import astropy.constants as const #import a Python package to call the value of certain constants.\n",
        "import astropy.units as u # import a Python package to call certain unit, e.g., the mass of the Sun"
      ]
    },
    {
      "cell_type": "code",
      "source": [
        "M = 1* u.solMass # define M as a  physical quantity with a value and a unit\n",
        "print(M.to(u.kg)) #print out M in unit of Kilogram"
      ],
      "metadata": {
        "colab": {
          "base_uri": "https://localhost:8080/"
        },
        "id": "sNkQC8XU6Tes",
        "outputId": "3627c625-1658-4adc-bbf6-50ca549eef28"
      },
      "execution_count": null,
      "outputs": [
        {
          "output_type": "stream",
          "name": "stdout",
          "text": [
            "1.988409870698051e+30 kg\n"
          ]
        }
      ]
    },
    {
      "cell_type": "code",
      "source": [
        "R = 1 * u.au # Define R as the radius of the Earth's orbit around the Sun in astrimical unit\n",
        "print(R.to(u.km)) # print out the radius of the earth's orbit"
      ],
      "metadata": {
        "colab": {
          "base_uri": "https://localhost:8080/"
        },
        "id": "OGV8MvaA7TbU",
        "outputId": "37bc8721-4a9a-4e48-b073-9fc59b7a6be7"
      },
      "execution_count": null,
      "outputs": [
        {
          "output_type": "stream",
          "name": "stdout",
          "text": [
            "149597870.7 km\n"
          ]
        }
      ]
    },
    {
      "cell_type": "code",
      "source": [
        "G = const.G ## define G as the gravitational constant\n",
        "print(G.si) # print out G in SI unit"
      ],
      "metadata": {
        "colab": {
          "base_uri": "https://localhost:8080/"
        },
        "id": "CzzONsso8TYi",
        "outputId": "c5cc73bb-e184-43bd-91bb-14c430df17db"
      },
      "execution_count": null,
      "outputs": [
        {
          "output_type": "stream",
          "name": "stdout",
          "text": [
            "  Name   = Gravitational constant\n",
            "  Value  = 6.6743e-11\n",
            "  Uncertainty  = 1.5e-15\n",
            "  Unit  = m3 / (kg s2)\n",
            "  Reference = CODATA 2018\n"
          ]
        }
      ]
    },
    {
      "cell_type": "code",
      "source": [
        "import numpy as np # import numpy package which allows us to connect mathematical operations for the defind quantities\n"
      ],
      "metadata": {
        "id": "kGvYNPKM8vl8"
      },
      "execution_count": null,
      "outputs": []
    },
    {
      "cell_type": "code",
      "source": [
        "V= np.sqrt(G*M/R) # caculating orbital velocity based on the equation at the beginning\n",
        "print(V.to(u.km / u.s)) # print out orbital velocity of the Earth around the Sun"
      ],
      "metadata": {
        "colab": {
          "base_uri": "https://localhost:8080/"
        },
        "id": "Y9ZdFgzR83dX",
        "outputId": "dc54713b-5a4b-4718-ab19-1ecc513bfc07"
      },
      "execution_count": null,
      "outputs": [
        {
          "output_type": "stream",
          "name": "stdout",
          "text": [
            "29.784691829676934 km / s\n"
          ]
        }
      ]
    },
    {
      "cell_type": "code",
      "source": [
        "R_jupiter = 5.2 * u.au # this is the orbital Rdaidus of Jupiter"
      ],
      "metadata": {
        "id": "bWWRWsfk_spx"
      },
      "execution_count": null,
      "outputs": []
    },
    {
      "cell_type": "code",
      "source": [
        "V_jupital = np.sqrt(G * M / R_jupiter) #calculation orbital velocity based on the equation at the beginning\n",
        "print(V_jupital.to(u.km / u.s)) #print out orbital velocity of the earth around the Sun."
      ],
      "metadata": {
        "colab": {
          "base_uri": "https://localhost:8080/"
        },
        "id": "ae6Nq97Q_6JQ",
        "outputId": "7ca0ea67-0f50-4111-e940-dd588000831a"
      },
      "execution_count": null,
      "outputs": [
        {
          "output_type": "stream",
          "name": "stdout",
          "text": [
            "13.061451410903354 km / s\n"
          ]
        }
      ]
    },
    {
      "cell_type": "code",
      "source": [],
      "metadata": {
        "id": "1-kpRjVa7Gh1"
      },
      "execution_count": null,
      "outputs": []
    },
    {
      "cell_type": "markdown",
      "source": [
        "$ V ="
      ],
      "metadata": {
        "id": "ByjwJZrM5Okv"
      }
    }
  ]
}